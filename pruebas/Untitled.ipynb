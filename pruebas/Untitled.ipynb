{
 "cells": [
  {
   "cell_type": "code",
   "execution_count": 1,
   "id": "61c5f202-04ba-4428-82df-bf660ad19cd1",
   "metadata": {},
   "outputs": [
    {
     "ename": "ModuleNotFoundError",
     "evalue": "No module named 'cplex'",
     "output_type": "error",
     "traceback": [
      "\u001b[0;31m---------------------------------------------------------------------------\u001b[0m",
      "\u001b[0;31mModuleNotFoundError\u001b[0m                       Traceback (most recent call last)",
      "Cell \u001b[0;32mIn[1], line 1\u001b[0m\n\u001b[0;32m----> 1\u001b[0m \u001b[38;5;28;01mfrom\u001b[39;00m \u001b[38;5;21;01mcplex\u001b[39;00m \u001b[38;5;28;01mimport\u001b[39;00m Cplex\n",
      "\u001b[0;31mModuleNotFoundError\u001b[0m: No module named 'cplex'"
     ]
    }
   ],
   "source": [
    "from cplex import Cplex"
   ]
  },
  {
   "cell_type": "code",
   "execution_count": null,
   "id": "f37f156c-79b2-4211-b056-e964f559533b",
   "metadata": {},
   "outputs": [],
   "source": [
    "# Crear un nuevo problema de CPLEX\n",
    "prob = Cplex()\n",
    "\n",
    "# Cambiar el sentido del problema a minimización\n",
    "prob.objective.set_sense(prob.objective.sense.minimize)\n",
    "\n",
    "# Añadir variables\n",
    "# 'lb' es el límite inferior, 'ub' es el límite superior, 'names' son los nombres de las variables\n",
    "prob.variables.add(obj=[1.0, 2.0], lb=[0.0, 0.0], ub=[40.0, cplex.infinity], names=[\"x1\", \"x2\"])\n",
    "\n",
    "# Añadir restricciones\n",
    "# 'lin_expr' son las expresiones lineales, 'senses' es el sentido de las restricciones, 'rhs' es el lado derecho\n",
    "prob.linear_constraints.add(\n",
    "    lin_expr=[[[\"x1\", \"x2\"], [1.0, 1.0]]],\n",
    "    senses=[\"L\"],\n",
    "    rhs=[20.0]\n",
    ")\n",
    "\n",
    "# Resolver el problema\n",
    "prob.solve()\n",
    "\n",
    "# Mostrar la solución\n",
    "print(\"Solution status =\", prob.solution.get_status(), \":\", prob.solution.status[prob.solution.get_status()])\n",
    "print(\"Solution value  =\", prob.solution.get_objective_value())\n",
    "names = prob.variables.get_names()\n",
    "values = prob.solution.get_values()\n",
    "for name, value in zip(names, values):\n",
    "    print(name, \" = \", value)"
   ]
  }
 ],
 "metadata": {
  "kernelspec": {
   "display_name": "Python (mi_entorno)",
   "language": "python",
   "name": "mi_entorno"
  },
  "language_info": {
   "codemirror_mode": {
    "name": "ipython",
    "version": 3
   },
   "file_extension": ".py",
   "mimetype": "text/x-python",
   "name": "python",
   "nbconvert_exporter": "python",
   "pygments_lexer": "ipython3",
   "version": "3.8.18"
  }
 },
 "nbformat": 4,
 "nbformat_minor": 5
}
